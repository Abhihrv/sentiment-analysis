{
 "cells": [
  {
   "cell_type": "code",
   "execution_count": 2,
   "metadata": {},
   "outputs": [],
   "source": [
    "import pandas as pd\n",
    "import sqlite3\n",
    "import xlsxwriter"
   ]
  },
  {
   "cell_type": "code",
   "execution_count": 3,
   "metadata": {},
   "outputs": [],
   "source": [
    "import twitter\n",
    "\n",
    "CONSUMER_KEY = 'TKg8s8vM1cWPmLLKTGINqILpG'\n",
    "CONSUMER_SECRET = 'ouJlH8MsbAmlMvo7XBbxmLmE62xEYmn7lIMEzRLz6ioBF5Iga4'\n",
    "OAUTH_TOKEN = '74972299-9rofywXBuV4Pf7b3HgYUHglbohHH8CqHh9ijMw4AW'\n",
    "OAUTH_TOKEN_SECRET = 'Q2bwuWOdbw6VMaBB31vOerxhsV4WVx6d0H60d8M91zeFD'\n",
    "\n",
    "auth = twitter.oauth.OAuth(OAUTH_TOKEN, OAUTH_TOKEN_SECRET,\n",
    "                           CONSUMER_KEY, CONSUMER_SECRET)\n",
    "\n",
    "twitter_api = twitter.Twitter(auth=auth)\n",
    "\n",
    "# Nothing to see by displaying twitter_api except that it's now a\n",
    "# defined variable\n",
    "\n"
   ]
  },
  {
   "cell_type": "code",
   "execution_count": 4,
   "metadata": {},
   "outputs": [],
   "source": [
    "import tweepy\n",
    "import sys\n",
    "import csv #Import csv\n",
    "auth = tweepy.auth.OAuthHandler('TKg8s8vM1cWPmLLKTGINqILpG', 'ouJlH8MsbAmlMvo7XBbxmLmE62xEYmn7lIMEzRLz6ioBF5Iga4')\n",
    "auth.set_access_token('74972299-9rofywXBuV4Pf7b3HgYUHglbohHH8CqHh9ijMw4AW','Q2bwuWOdbw6VMaBB31vOerxhsV4WVx6d0H60d8M91zeFD')\n",
    "\n",
    "api = tweepy.API(auth)"
   ]
  },
  {
   "cell_type": "code",
   "execution_count": null,
   "metadata": {},
   "outputs": [],
   "source": [
    "#csvFile = open(sys.argv[0]+'tweet_27march.csv', 'a')\n",
    "#Use csv Writer\n",
    "fields = ('date','text')\n",
    "#csvWriter = csv.writer(csvFile, lineterminator= '\\n')\n",
    "workbook = xlsxwriter.Workbook(\"Tweets_27Mar\" + \".xlsx\")\n",
    "worksheet = workbook.add_worksheet()\n",
    "row = 0\n",
    "for tweet in tweepy.Cursor(api.search,q=\"TwitchSupport\", result_type=\"recent\" , lang=\"en\", since_id=\"2019-5-20\").items(300):\n",
    "    follower_count = tweet.user.followers_count\n",
    "    worksheet.write_string(row, 0, str(tweet.created_at))\n",
    "    worksheet.write(row, 1, tweet.text)\n",
    "    worksheet.write(row, 2, tweet.in_reply_to_screen_name)#in_reply_to_status_id_str\n",
    "    worksheet.write(row, 3, str(tweet.in_reply_to_status_id_str))\n",
    "    row += 1\n",
    "    #if tweet.created_at >= datetime.datetime(2019,2,24):\n",
    "   # csvWriter.writerow([tweet.created_at, tweet.text.encode('utf-8'),follower_count])\n",
    "workbook.close()"
   ]
  },
  {
   "cell_type": "code",
   "execution_count": 5,
   "metadata": {},
   "outputs": [],
   "source": [
    "#override tweepy.StreamListener to add logic to on_status\n",
    "list_1=[]\n",
    "class MyStreamListener(tweepy.StreamListener):\n",
    "\n",
    "    def on_status(self, status):\n",
    "        print(status.text)\n",
    "        list_1.append(status.text)"
   ]
  },
  {
   "cell_type": "code",
   "execution_count": null,
   "metadata": {},
   "outputs": [
    {
     "name": "stdout",
     "output_type": "stream",
     "text": [
      "@TwitchSupport @shroud @Forsen\n",
      "Trash\n",
      "RT @TwitchSupport: 📢 Mods, we're rolling out a new tool just for you: Pause Chat!\n",
      "As you know, it can be hard to click on a username when c…\n",
      "RT @TwitchSupport: 📢 Mods, we're rolling out a new tool just for you: Pause Chat!\n",
      "As you know, it can be hard to click on a username when c…\n",
      "RT @TwitchSupport: 📢 Mods, we're rolling out a new tool just for you: Pause Chat!\n",
      "As you know, it can be hard to click on a username when c…\n",
      "RT @TwitchSupport: 📢 Mods, we're rolling out a new tool just for you: Pause Chat!\n",
      "As you know, it can be hard to click on a username when c…\n",
      "@TwitchSupport @DatHowellGuy HUGEEEEEEEEEEEEE\n",
      "@TwitchSupport Can we have this as just normal function for everyone please.\n",
      "@TwitchSupport Such a pleb\n",
      "@TwitchSupport been using this forever with FFZ, how have none of you ever seen it https://t.co/iKfhgkGxNR\n",
      "RT @TwitchSupport: 📢 Mods, we're rolling out a new tool just for you: Pause Chat!\n",
      "As you know, it can be hard to click on a username when c…\n",
      "Lets see Tanner from high school try and harass me now\n",
      "Heck yeah. No more accidentally clicking the wrong names.\n"
     ]
    }
   ],
   "source": [
    "myStreamListener = MyStreamListener()\n",
    "myStream = tweepy.Stream(auth = api.auth, listener=myStreamListener)\n",
    "myStream.filter(track=['TwitchSupport'])"
   ]
  },
  {
   "cell_type": "code",
   "execution_count": 8,
   "metadata": {},
   "outputs": [
    {
     "data": {
      "text/plain": [
       "list"
      ]
     },
     "execution_count": 8,
     "metadata": {},
     "output_type": "execute_result"
    }
   ],
   "source": [
    "type(list_1)"
   ]
  },
  {
   "cell_type": "code",
   "execution_count": 9,
   "metadata": {},
   "outputs": [],
   "source": [
    "list_1.append(\"AJ\")"
   ]
  },
  {
   "cell_type": "code",
   "execution_count": 1,
   "metadata": {},
   "outputs": [
    {
     "ename": "NameError",
     "evalue": "name 'list_1' is not defined",
     "output_type": "error",
     "traceback": [
      "\u001b[1;31m---------------------------------------------------------------------------\u001b[0m",
      "\u001b[1;31mNameError\u001b[0m                                 Traceback (most recent call last)",
      "\u001b[1;32m<ipython-input-1-0c50650c1d4c>\u001b[0m in \u001b[0;36m<module>\u001b[1;34m()\u001b[0m\n\u001b[1;32m----> 1\u001b[1;33m \u001b[0mlist_1\u001b[0m\u001b[1;33m\u001b[0m\u001b[0m\n\u001b[0m",
      "\u001b[1;31mNameError\u001b[0m: name 'list_1' is not defined"
     ]
    }
   ],
   "source": [
    "list_1"
   ]
  },
  {
   "cell_type": "code",
   "execution_count": null,
   "metadata": {},
   "outputs": [],
   "source": []
  }
 ],
 "metadata": {
  "kernelspec": {
   "display_name": "Python 3",
   "language": "python",
   "name": "python3"
  },
  "language_info": {
   "codemirror_mode": {
    "name": "ipython",
    "version": 3
   },
   "file_extension": ".py",
   "mimetype": "text/x-python",
   "name": "python",
   "nbconvert_exporter": "python",
   "pygments_lexer": "ipython3",
   "version": "3.7.0"
  }
 },
 "nbformat": 4,
 "nbformat_minor": 2
}
